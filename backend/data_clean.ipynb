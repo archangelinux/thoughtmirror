{
 "cells": [
  {
   "cell_type": "code",
   "execution_count": 24,
   "metadata": {},
   "outputs": [],
   "source": [
    "# !pip install pandas\n",
    "\n",
    "import pandas as pd\n",
    "import json\n",
    "\n",
    "df = pd.read_csv(\"data/Annotated_data.csv\")\n",
    "df.drop(columns=[\"Id_Number\"], inplace=True)"
   ]
  },
  {
   "cell_type": "code",
   "execution_count": 25,
   "metadata": {},
   "outputs": [],
   "source": [
    "def build_prompt_completion(row):\n",
    "    \"\"\"\n",
    "    Build a dictionary for a training example in Gemini's dataset format.\n",
    "    The \"systemInstruction\" contains the prompt that instructs the model,\n",
    "    and \"contents\" holds the annotated cognitive distortion information.\n",
    "    \"\"\"\n",
    "    # Build the prompt from the patient question\n",
    "    prompt = (\n",
    "        f\"Journal Entry: {row['Patient Question']}\\n\"\n",
    "        \"Identify any cognitive distortions in the text.\"\n",
    "    )\n",
    "\n",
    "    # Use the annotation columns to build the completion.\n",
    "    distorted_part = row['Distorted part'] if pd.notna(row['Distorted part']) else \"None\"\n",
    "    dominant_distortion = row['Dominant Distortion'] if pd.notna(row['Dominant Distortion']) else \"None\"\n",
    "    secondary_distortion = (\n",
    "        row['Secondary Distortion (Optional)']\n",
    "        if pd.notna(row['Secondary Distortion (Optional)'])\n",
    "        else \"\"\n",
    "    )\n",
    "\n",
    "    completion = f\"Distorted part: {distorted_part}\\nDominant Distortion: {dominant_distortion}\"\n",
    "    if secondary_distortion:\n",
    "        completion += f\"\\nSecondary Distortion: {secondary_distortion}\"\n",
    "\n",
    "    return {\n",
    "        \"contents\": [\n",
    "            {\n",
    "                \"role\": \"user\",\n",
    "                \"parts\": [\n",
    "                    {\n",
    "                        \"text\": prompt\n",
    "                    }\n",
    "                ]\n",
    "            },\n",
    "            {\n",
    "                \"role\": \"model\",\n",
    "                \"parts\": [\n",
    "                    {\n",
    "                        \"text\": completion\n",
    "                    }\n",
    "                ]\n",
    "            }\n",
    "        ]\n",
    "    }"
   ]
  },
  {
   "cell_type": "code",
   "execution_count": 26,
   "metadata": {},
   "outputs": [
    {
     "name": "stdout",
     "output_type": "stream",
     "text": [
      "JSONL file saved to data/fine_tuning_data.jsonl\n"
     ]
    }
   ],
   "source": [
    "# Apply the function to each row in the df\n",
    "# Record is now a list in the {contents: []} form\n",
    "records = df.apply(build_prompt_completion, axis=1).tolist()\n",
    "\n",
    "# Write each record as a separate JSON object (one per line) to a .jsonl file\n",
    "output_file = \"data/fine_tuning_data.jsonl\"\n",
    "with open(output_file, \"w\", encoding=\"utf-8\") as f:\n",
    "    for record in records:\n",
    "        json_line = json.dumps(record, ensure_ascii=False)\n",
    "        f.write(json_line + \"\\n\")\n",
    "\n",
    "print(f\"JSONL file saved to {output_file}\")"
   ]
  }
 ],
 "metadata": {
  "kernelspec": {
   "display_name": "venv",
   "language": "python",
   "name": "python3"
  },
  "language_info": {
   "codemirror_mode": {
    "name": "ipython",
    "version": 3
   },
   "file_extension": ".py",
   "mimetype": "text/x-python",
   "name": "python",
   "nbconvert_exporter": "python",
   "pygments_lexer": "ipython3",
   "version": "3.13.2"
  }
 },
 "nbformat": 4,
 "nbformat_minor": 2
}

{
 "cells": [
  {
   "cell_type": "markdown",
   "metadata": {},
   "source": [
    "### Read csv data, split into train and test"
   ]
  },
  {
   "cell_type": "code",
   "execution_count": 9,
   "metadata": {},
   "outputs": [],
   "source": [
    "# !pip install pandas\n",
    "\n",
    "import pandas as pd\n",
    "import json\n",
    "\n",
    "df = pd.read_csv(\"data/Annotated_data.csv\").sample(frac = 1)\n",
    "df.drop(columns=[\"Id_Number\"], inplace=True)"
   ]
  },
  {
   "cell_type": "code",
   "execution_count": 10,
   "metadata": {},
   "outputs": [],
   "source": [
    "# Train test split\n",
    "train_size = int(0.8 * len(df))\n",
    "val_size = int(0.1 * len(df))\n",
    "train_df = df[:train_size]\n",
    "val_df = df[train_size:train_size + val_size]\n",
    "test_df = df[val_size:]"
   ]
  },
  {
   "cell_type": "markdown",
   "metadata": {},
   "source": [
    "### Process data as jsonls for fine tuning"
   ]
  },
  {
   "cell_type": "code",
   "execution_count": 11,
   "metadata": {},
   "outputs": [],
   "source": [
    "def normalize_str(s):\n",
    "   \"\"\"Lower text and remove extra whitespace, but preserve newlines.\"\"\"\n",
    "\n",
    "   def white_space_fix(text):\n",
    "       return ' '.join(text.split())  # Splits by any whitespace, including \\n\n",
    "\n",
    "   def lower(text):\n",
    "       return text.lower()\n",
    "\n",
    "   return white_space_fix(lower(s))"
   ]
  },
  {
   "cell_type": "code",
   "execution_count": 14,
   "metadata": {},
   "outputs": [],
   "source": [
    "def build_prompt_completion(row):\n",
    "    \"\"\"\n",
    "    Build a dictionary for a training example in Gemini's dataset format.\n",
    "    The \"systemInstruction\" contains the prompt that instructs the model,\n",
    "    and \"contents\" holds the annotated cognitive distortion information.\n",
    "    \"\"\"\n",
    "    # Build the prompt from the patient question\n",
    "    prompt = (\n",
    "        f\"Journal Entry: {row['Patient Question']}\\n\"\n",
    "        \"Identify any cognitive distortions in the text.\"\n",
    "    )\n",
    "\n",
    "    # Use the annotation columns to build the completion.\n",
    "    distorted_part = row['Distorted part'] if pd.notna(row['Distorted part']) else \"None\"\n",
    "    dominant_distortion = row['Dominant Distortion'] if pd.notna(row['Dominant Distortion']) else \"None\"\n",
    "    secondary_distortion = (\n",
    "        row['Secondary Distortion (Optional)']\n",
    "        if pd.notna(row['Secondary Distortion (Optional)'])\n",
    "        else \"\"\n",
    "    )\n",
    "\n",
    "    completion = f\"Distorted part: {distorted_part}\\nDominant Distortion: {dominant_distortion}\"\n",
    "    if secondary_distortion:\n",
    "        completion += f\"\\nSecondary Distortion: {secondary_distortion}\"\n",
    "\n",
    "    return {\n",
    "        \"contents\": [\n",
    "            {\n",
    "                \"role\": \"user\",\n",
    "                \"parts\": [\n",
    "                    {\n",
    "                        \"text\": normalize_str(prompt)\n",
    "                    }\n",
    "                ]\n",
    "            },\n",
    "            {\n",
    "                \"role\": \"model\",\n",
    "                \"parts\": [\n",
    "                    {\n",
    "                        \"text\": normalize_str(completion)\n",
    "                    }\n",
    "                ]\n",
    "            }\n",
    "        ]\n",
    "    }"
   ]
  },
  {
   "cell_type": "code",
   "execution_count": 15,
   "metadata": {},
   "outputs": [
    {
     "name": "stdout",
     "output_type": "stream",
     "text": [
      "JSONL file saved to data/training_data.jsonl\n",
      "JSONL file saved to data/validation_data.jsonl\n",
      "JSONL file saved to data/testing_data.jsonl\n"
     ]
    }
   ],
   "source": [
    "# Apply the function to each row in the df\n",
    "# Record is now a list in the {contents: []} form\n",
    "def create_jsonl(df, jsonl_name: str):\n",
    "    records = df.apply(build_prompt_completion, axis=1).tolist()\n",
    "\n",
    "    # Write each record as a separate JSON object (one per line) to a .jsonl file\n",
    "    output_file = f\"data/{jsonl_name}.jsonl\"\n",
    "    with open(output_file, \"w\", encoding=\"utf-8\") as f:\n",
    "        for record in records:\n",
    "            json_line = json.dumps(record, ensure_ascii=False)\n",
    "            f.write(json_line + \"\\n\")\n",
    "    print(f\"JSONL file saved to {output_file}\")\n",
    "\n",
    "create_jsonl(train_df, \"training_data\")\n",
    "create_jsonl(val_df, \"validation_data\")\n",
    "create_jsonl(test_df, \"testing_data\")"
   ]
  },
  {
   "cell_type": "markdown",
   "metadata": {},
   "source": [
    "### Upload train data to bucket in google cloud storage"
   ]
  },
  {
   "cell_type": "markdown",
   "metadata": {},
   "source": [
    "1. Go to google cloud console\n",
    "2. Go to bucket\n",
    "3. Upload file manually"
   ]
  },
  {
   "cell_type": "markdown",
   "metadata": {},
   "source": [
    "### Set Google Cloud project information and initialize Vertex AI and Gen AI SDK"
   ]
  },
  {
   "cell_type": "code",
   "execution_count": 1,
   "metadata": {},
   "outputs": [],
   "source": [
    "from google import genai\n",
    "import os\n",
    "from dotenv import load_dotenv\n",
    "import vertexai\n",
    "\n",
    "load_dotenv()\n",
    "PROJECT_ID = os.getenv('FIREBASE_PROJECT_ID')\n",
    "LOCATION = \"us-central1\"\n",
    "BUCKET_URI = \"gs://distortions-bucket1\"\n",
    "\n",
    "vertexai.init(project=PROJECT_ID, location=LOCATION)\n",
    "\n",
    "client = genai.Client(vertexai=True, project=PROJECT_ID, location=LOCATION)\n"
   ]
  },
  {
   "cell_type": "code",
   "execution_count": 7,
   "metadata": {},
   "outputs": [],
   "source": [
    "import IPython\n",
    "IPython.__version__\n",
    "from IPython.display import display as ipy_display\n",
    "import IPython.core.display\n",
    "IPython.core.display.display = ipy_display"
   ]
  },
  {
   "cell_type": "code",
   "execution_count": 16,
   "metadata": {},
   "outputs": [
    {
     "name": "stdout",
     "output_type": "stream",
     "text": [
      "Creating SupervisedTuningJob\n",
      "SupervisedTuningJob created. Resource name: projects/777495406665/locations/us-central1/tuningJobs/1817495486672666624\n",
      "To use this SupervisedTuningJob in another session:\n",
      "tuning_job = sft.SupervisedTuningJob('projects/777495406665/locations/us-central1/tuningJobs/1817495486672666624')\n",
      "View Tuning Job:\n",
      "https://console.cloud.google.com/vertex-ai/generative/language/locations/us-central1/tuning/tuningJob/1817495486672666624?project=777495406665\n"
     ]
    },
    {
     "data": {
      "text/html": [
       "\n",
       "        \n",
       "    <link rel=\"stylesheet\" href=\"https://fonts.googleapis.com/icon?family=Material+Icons\">\n",
       "    <style>\n",
       "      .view-vertex-resource,\n",
       "      .view-vertex-resource:hover,\n",
       "      .view-vertex-resource:visited {\n",
       "        position: relative;\n",
       "        display: inline-flex;\n",
       "        flex-direction: row;\n",
       "        height: 32px;\n",
       "        padding: 0 12px;\n",
       "          margin: 4px 18px;\n",
       "        gap: 4px;\n",
       "        border-radius: 4px;\n",
       "\n",
       "        align-items: center;\n",
       "        justify-content: center;\n",
       "        background-color: rgb(255, 255, 255);\n",
       "        color: rgb(51, 103, 214);\n",
       "\n",
       "        font-family: Roboto,\"Helvetica Neue\",sans-serif;\n",
       "        font-size: 13px;\n",
       "        font-weight: 500;\n",
       "        text-transform: uppercase;\n",
       "        text-decoration: none !important;\n",
       "\n",
       "        transition: box-shadow 280ms cubic-bezier(0.4, 0, 0.2, 1) 0s;\n",
       "        box-shadow: 0px 3px 1px -2px rgba(0,0,0,0.2), 0px 2px 2px 0px rgba(0,0,0,0.14), 0px 1px 5px 0px rgba(0,0,0,0.12);\n",
       "      }\n",
       "      .view-vertex-resource:active {\n",
       "        box-shadow: 0px 5px 5px -3px rgba(0,0,0,0.2),0px 8px 10px 1px rgba(0,0,0,0.14),0px 3px 14px 2px rgba(0,0,0,0.12);\n",
       "      }\n",
       "      .view-vertex-resource:active .view-vertex-ripple::before {\n",
       "        position: absolute;\n",
       "        top: 0;\n",
       "        bottom: 0;\n",
       "        left: 0;\n",
       "        right: 0;\n",
       "        border-radius: 4px;\n",
       "        pointer-events: none;\n",
       "\n",
       "        content: '';\n",
       "        background-color: rgb(51, 103, 214);\n",
       "        opacity: 0.12;\n",
       "      }\n",
       "      .view-vertex-icon {\n",
       "        font-size: 18px;\n",
       "      }\n",
       "    </style>\n",
       "  \n",
       "        <a class=\"view-vertex-resource\" id=\"view-vertex-resource-1531294c-41c0-44b0-a959-69b9752d05eb\" href=\"#view-view-vertex-resource-1531294c-41c0-44b0-a959-69b9752d05eb\">\n",
       "          <span class=\"material-icons view-vertex-icon\">tune</span>\n",
       "          <span>View Tuning Job</span>\n",
       "        </a>\n",
       "        \n",
       "        <script>\n",
       "          (function () {\n",
       "            const link = document.getElementById('view-vertex-resource-1531294c-41c0-44b0-a959-69b9752d05eb');\n",
       "            link.addEventListener('click', (e) => {\n",
       "              if (window.google?.colab?.openUrl) {\n",
       "                window.google.colab.openUrl('https://console.cloud.google.com/vertex-ai/generative/language/locations/us-central1/tuning/tuningJob/1817495486672666624?project=777495406665');\n",
       "              } else {\n",
       "                window.open('https://console.cloud.google.com/vertex-ai/generative/language/locations/us-central1/tuning/tuningJob/1817495486672666624?project=777495406665', '_blank');\n",
       "              }\n",
       "              e.stopPropagation();\n",
       "              e.preventDefault();\n",
       "            });\n",
       "          })();\n",
       "        </script>\n",
       "    "
      ],
      "text/plain": [
       "<IPython.core.display.HTML object>"
      ]
     },
     "metadata": {},
     "output_type": "display_data"
    }
   ],
   "source": [
    "from vertexai.preview.tuning import sft\n",
    "\n",
    "base_model = 'gemini-1.5-flash-002'\n",
    "tuned_model_display_name = \"cognitive-distortion-classifier-v01\" \n",
    "\n",
    "sft_tuning_job = sft.train(\n",
    "    source_model=base_model,\n",
    "    train_dataset=f\"\"\"{BUCKET_URI}/training_data.jsonl\"\"\",\n",
    "    validation_dataset=f\"\"\"{BUCKET_URI}/validation_data.jsonl\"\"\",\n",
    "    tuned_model_display_name=tuned_model_display_name,\n",
    ")"
   ]
  },
  {
   "cell_type": "code",
   "execution_count": null,
   "metadata": {},
   "outputs": [],
   "source": []
  }
 ],
 "metadata": {
  "kernelspec": {
   "display_name": "venv",
   "language": "python",
   "name": "python3"
  },
  "language_info": {
   "codemirror_mode": {
    "name": "ipython",
    "version": 3
   },
   "file_extension": ".py",
   "mimetype": "text/x-python",
   "name": "python",
   "nbconvert_exporter": "python",
   "pygments_lexer": "ipython3",
   "version": "3.13.2"
  }
 },
 "nbformat": 4,
 "nbformat_minor": 2
}
